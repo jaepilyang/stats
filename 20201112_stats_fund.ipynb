{
 "cells": [
  {
   "cell_type": "code",
   "execution_count": 1,
   "metadata": {},
   "outputs": [],
   "source": [
    "import pandas as pd\n",
    "import numpy as np"
   ]
  },
  {
   "cell_type": "code",
   "execution_count": 11,
   "metadata": {},
   "outputs": [
    {
     "data": {
      "text/html": [
       "<div>\n",
       "<style scoped>\n",
       "    .dataframe tbody tr th:only-of-type {\n",
       "        vertical-align: middle;\n",
       "    }\n",
       "\n",
       "    .dataframe tbody tr th {\n",
       "        vertical-align: top;\n",
       "    }\n",
       "\n",
       "    .dataframe thead th {\n",
       "        text-align: right;\n",
       "    }\n",
       "</style>\n",
       "<table border=\"1\" class=\"dataframe\">\n",
       "  <thead>\n",
       "    <tr style=\"text-align: right;\">\n",
       "      <th></th>\n",
       "      <th>A 성적 확률</th>\n",
       "      <th>B 성적 확률</th>\n",
       "    </tr>\n",
       "  </thead>\n",
       "  <tbody>\n",
       "    <tr>\n",
       "      <th>0</th>\n",
       "      <td>0.58</td>\n",
       "      <td>0.65</td>\n",
       "    </tr>\n",
       "    <tr>\n",
       "      <th>1</th>\n",
       "      <td>0.87</td>\n",
       "      <td>0.51</td>\n",
       "    </tr>\n",
       "    <tr>\n",
       "      <th>2</th>\n",
       "      <td>0.55</td>\n",
       "      <td>0.45</td>\n",
       "    </tr>\n",
       "    <tr>\n",
       "      <th>3</th>\n",
       "      <td>0.05</td>\n",
       "      <td>0.05</td>\n",
       "    </tr>\n",
       "  </tbody>\n",
       "</table>\n",
       "</div>"
      ],
      "text/plain": [
       "   A 성적 확률  B 성적 확률\n",
       "0     0.58     0.65\n",
       "1     0.87     0.51\n",
       "2     0.55     0.45\n",
       "3     0.05     0.05"
      ]
     },
     "execution_count": 11,
     "metadata": {},
     "output_type": "execute_result"
    }
   ],
   "source": [
    "d={\n",
    "    'A 성적 확률': [0.58, 0.87, 0.55, 0.05],\n",
    "    'B 성적 확률': [0.65, 0.51, 0.45, 0.05],\n",
    "}\n",
    "df = pd.DataFrame(d)\n",
    "df"
   ]
  },
  {
   "cell_type": "code",
   "execution_count": 12,
   "metadata": {},
   "outputs": [],
   "source": [
    "df['인센티브'] = [300, 150, 0, -100]\n"
   ]
  },
  {
   "cell_type": "code",
   "execution_count": 13,
   "metadata": {},
   "outputs": [
    {
     "data": {
      "text/html": [
       "<div>\n",
       "<style scoped>\n",
       "    .dataframe tbody tr th:only-of-type {\n",
       "        vertical-align: middle;\n",
       "    }\n",
       "\n",
       "    .dataframe tbody tr th {\n",
       "        vertical-align: top;\n",
       "    }\n",
       "\n",
       "    .dataframe thead th {\n",
       "        text-align: right;\n",
       "    }\n",
       "</style>\n",
       "<table border=\"1\" class=\"dataframe\">\n",
       "  <thead>\n",
       "    <tr style=\"text-align: right;\">\n",
       "      <th></th>\n",
       "      <th>A 성적 확률</th>\n",
       "      <th>B 성적 확률</th>\n",
       "      <th>인센티브</th>\n",
       "    </tr>\n",
       "  </thead>\n",
       "  <tbody>\n",
       "    <tr>\n",
       "      <th>0</th>\n",
       "      <td>0.58</td>\n",
       "      <td>0.65</td>\n",
       "      <td>300</td>\n",
       "    </tr>\n",
       "    <tr>\n",
       "      <th>1</th>\n",
       "      <td>0.87</td>\n",
       "      <td>0.51</td>\n",
       "      <td>150</td>\n",
       "    </tr>\n",
       "    <tr>\n",
       "      <th>2</th>\n",
       "      <td>0.55</td>\n",
       "      <td>0.45</td>\n",
       "      <td>0</td>\n",
       "    </tr>\n",
       "    <tr>\n",
       "      <th>3</th>\n",
       "      <td>0.05</td>\n",
       "      <td>0.05</td>\n",
       "      <td>-100</td>\n",
       "    </tr>\n",
       "  </tbody>\n",
       "</table>\n",
       "</div>"
      ],
      "text/plain": [
       "   A 성적 확률  B 성적 확률  인센티브\n",
       "0     0.58     0.65   300\n",
       "1     0.87     0.51   150\n",
       "2     0.55     0.45     0\n",
       "3     0.05     0.05  -100"
      ]
     },
     "execution_count": 13,
     "metadata": {},
     "output_type": "execute_result"
    }
   ],
   "source": [
    "df"
   ]
  },
  {
   "cell_type": "code",
   "execution_count": 21,
   "metadata": {},
   "outputs": [
    {
     "data": {
      "text/html": [
       "<div>\n",
       "<style scoped>\n",
       "    .dataframe tbody tr th:only-of-type {\n",
       "        vertical-align: middle;\n",
       "    }\n",
       "\n",
       "    .dataframe tbody tr th {\n",
       "        vertical-align: top;\n",
       "    }\n",
       "\n",
       "    .dataframe thead th {\n",
       "        text-align: right;\n",
       "    }\n",
       "</style>\n",
       "<table border=\"1\" class=\"dataframe\">\n",
       "  <thead>\n",
       "    <tr style=\"text-align: right;\">\n",
       "      <th></th>\n",
       "      <th>A 성적 확률</th>\n",
       "      <th>B 성적 확률</th>\n",
       "      <th>인센티브</th>\n",
       "      <th>A 기대값</th>\n",
       "      <th>B 기대값</th>\n",
       "      <th>A 확률변수 평균</th>\n",
       "      <th>B 확률변수 평균</th>\n",
       "      <th>A 확률변수 분산</th>\n",
       "      <th>B 확률변수 분산</th>\n",
       "    </tr>\n",
       "  </thead>\n",
       "  <tbody>\n",
       "    <tr>\n",
       "      <th>0</th>\n",
       "      <td>0.58</td>\n",
       "      <td>0.65</td>\n",
       "      <td>300</td>\n",
       "      <td>299.5</td>\n",
       "      <td>266.5</td>\n",
       "      <td>0.5125</td>\n",
       "      <td>0.415</td>\n",
       "      <td>76760.0125</td>\n",
       "      <td>46327.435</td>\n",
       "    </tr>\n",
       "    <tr>\n",
       "      <th>1</th>\n",
       "      <td>0.87</td>\n",
       "      <td>0.51</td>\n",
       "      <td>150</td>\n",
       "      <td>299.5</td>\n",
       "      <td>266.5</td>\n",
       "      <td>0.5125</td>\n",
       "      <td>0.415</td>\n",
       "      <td>76760.0125</td>\n",
       "      <td>46327.435</td>\n",
       "    </tr>\n",
       "    <tr>\n",
       "      <th>2</th>\n",
       "      <td>0.55</td>\n",
       "      <td>0.45</td>\n",
       "      <td>0</td>\n",
       "      <td>299.5</td>\n",
       "      <td>266.5</td>\n",
       "      <td>0.5125</td>\n",
       "      <td>0.415</td>\n",
       "      <td>76760.0125</td>\n",
       "      <td>46327.435</td>\n",
       "    </tr>\n",
       "    <tr>\n",
       "      <th>3</th>\n",
       "      <td>0.05</td>\n",
       "      <td>0.05</td>\n",
       "      <td>-100</td>\n",
       "      <td>299.5</td>\n",
       "      <td>266.5</td>\n",
       "      <td>0.5125</td>\n",
       "      <td>0.415</td>\n",
       "      <td>76760.0125</td>\n",
       "      <td>46327.435</td>\n",
       "    </tr>\n",
       "  </tbody>\n",
       "</table>\n",
       "</div>"
      ],
      "text/plain": [
       "   A 성적 확률  B 성적 확률  인센티브  A 기대값  B 기대값  A 확률변수 평균  B 확률변수 평균   A 확률변수 분산  \\\n",
       "0     0.58     0.65   300  299.5  266.5     0.5125      0.415  76760.0125   \n",
       "1     0.87     0.51   150  299.5  266.5     0.5125      0.415  76760.0125   \n",
       "2     0.55     0.45     0  299.5  266.5     0.5125      0.415  76760.0125   \n",
       "3     0.05     0.05  -100  299.5  266.5     0.5125      0.415  76760.0125   \n",
       "\n",
       "   B 확률변수 분산  \n",
       "0  46327.435  \n",
       "1  46327.435  \n",
       "2  46327.435  \n",
       "3  46327.435  "
      ]
     },
     "execution_count": 21,
     "metadata": {},
     "output_type": "execute_result"
    }
   ],
   "source": [
    "df['A 기대값'] =  sum(df['인센티브']*df['A 성적 확률'])\n",
    "df['B 기대값'] =  sum(df['인센티브']*df['B 성적 확률'])\n",
    "\n",
    "df['A 확률변수 평균'] =  df['A 성적 확률'].mean()\n",
    "df['B 확률변수 평균'] =  df['B 성적 확률'].mean()\n",
    "\n",
    "df['A 확률변수 분산'] =  sum(((df['인센티브']-df['A 기대값'])**2)*df['A 성적 확률'])\n",
    "df['B 확률변수 분산'] =  sum(((df['인센티브']-df['B 기대값'])**2)*df['B 성적 확률'])\n",
    "\n",
    "df"
   ]
  },
  {
   "cell_type": "code",
   "execution_count": 24,
   "metadata": {},
   "outputs": [],
   "source": [
    "# 모평균의 구간추정\n",
    "# 평균 = 500\n",
    "# 표준오차 = 100\n",
    "# 신뢰도 90%, 95%, 99%에서 구간추정으로 평균에 대한 모수 추정"
   ]
  },
  {
   "cell_type": "code",
   "execution_count": 25,
   "metadata": {},
   "outputs": [],
   "source": [
    "x_mean = 500\n",
    "se = 100"
   ]
  },
  {
   "cell_type": "code",
   "execution_count": 26,
   "metadata": {},
   "outputs": [],
   "source": [
    "# s*1.64*2=90%\n",
    "# s*1.96*2=95%\n",
    "# s*2.58*2=99%"
   ]
  },
  {
   "cell_type": "code",
   "execution_count": 37,
   "metadata": {},
   "outputs": [],
   "source": [
    "# 신뢰도 90% 구간\n",
    "# 500-100*1.64 < mu < 500+100*1.64\n",
    "\n",
    "# 신뢰도 95% 구간\n",
    "# 500-100*1.96 < mu < 500+100*1.96\n",
    "\n",
    "# 신뢰도 99% 구간\n",
    "# 500-100*2.58 < mu < 500+100*2.58"
   ]
  },
  {
   "cell_type": "code",
   "execution_count": 36,
   "metadata": {},
   "outputs": [
    {
     "name": "stdout",
     "output_type": "stream",
     "text": [
      "모평균 90% 신뢰구간:  336.0 ~ 664.0\n",
      "모평균 95% 신뢰구간:  304.0 ~ 696.0\n",
      "모평균 99% 신뢰구간:  242.0 ~ 758.0\n"
     ]
    }
   ],
   "source": [
    "print('모평균 90% 신뢰구간: ',500-(100*1.64),'~',500+(100*1.64))\n",
    "print('모평균 95% 신뢰구간: ',500-(100*1.96),'~',500+(100*1.96))\n",
    "print('모평균 99% 신뢰구간: ',500-(100*2.58),'~',500+(100*2.58))"
   ]
  },
  {
   "cell_type": "code",
   "execution_count": 38,
   "metadata": {},
   "outputs": [],
   "source": [
    "# 모평균의 신뢰구간(모집단의 표준편차를 아는 경우)\n",
    "# 전구 수명을 확인\n",
    "# 표본추출 200개\n",
    "# 평균 수명 30000\n",
    "# 모표준편차 500\n",
    "# 신뢰수준 95%\n",
    "# 모평균의 신뢰구간을 추정"
   ]
  },
  {
   "cell_type": "code",
   "execution_count": 39,
   "metadata": {},
   "outputs": [],
   "source": [
    "n = 200\n",
    "x_mean = 30000\n",
    "theta = 500\n",
    "\n",
    "# x_mean - 1.96*(500/np.sqrt(n)) < u < x_mean + 1.96*(500/np.sqrt(n))"
   ]
  },
  {
   "cell_type": "code",
   "execution_count": 41,
   "metadata": {},
   "outputs": [
    {
     "name": "stdout",
     "output_type": "stream",
     "text": [
      "29930.703535443718 ~ 30069.296464556282\n"
     ]
    }
   ],
   "source": [
    "print(x_mean - 1.96*(500/np.sqrt(n)), '~', x_mean + 1.96*(500/np.sqrt(n)))"
   ]
  },
  {
   "cell_type": "code",
   "execution_count": 42,
   "metadata": {},
   "outputs": [],
   "source": [
    "# 모평균의 신뢰구간(모집단의 표준편차를 모르는 경우)"
   ]
  },
  {
   "cell_type": "code",
   "execution_count": 48,
   "metadata": {},
   "outputs": [],
   "source": [
    "arr = np.array([168,160,170,162,168,163,164,167,175,179,161,155])"
   ]
  },
  {
   "cell_type": "code",
   "execution_count": 56,
   "metadata": {},
   "outputs": [
    {
     "data": {
      "text/plain": [
       "166.0"
      ]
     },
     "execution_count": 56,
     "metadata": {},
     "output_type": "execute_result"
    }
   ],
   "source": [
    "arr_mean = sum(arr)/len(arr)\n",
    "arr_mean"
   ]
  },
  {
   "cell_type": "code",
   "execution_count": 60,
   "metadata": {},
   "outputs": [
    {
     "data": {
      "text/plain": [
       "44.18181818181818"
      ]
     },
     "execution_count": 60,
     "metadata": {},
     "output_type": "execute_result"
    }
   ],
   "source": [
    "arr_var = sum(((arr-arr_mean)**2))/(len(arr)-1)\n",
    "arr_var # 표본 분산"
   ]
  },
  {
   "cell_type": "code",
   "execution_count": 64,
   "metadata": {},
   "outputs": [
    {
     "data": {
      "text/plain": [
       "6.646940512883967"
      ]
     },
     "execution_count": 64,
     "metadata": {},
     "output_type": "execute_result"
    }
   ],
   "source": [
    "arr_std = np.sqrt(arr_var)\n",
    "arr_std # 표본 표준편차"
   ]
  },
  {
   "cell_type": "code",
   "execution_count": 65,
   "metadata": {},
   "outputs": [
    {
     "data": {
      "text/plain": [
       "1.918806447200494"
      ]
     },
     "execution_count": 65,
     "metadata": {},
     "output_type": "execute_result"
    }
   ],
   "source": [
    "arr_se = arr_std/np.sqrt(len(arr))\n",
    "arr_se # 표준오차"
   ]
  },
  {
   "cell_type": "code",
   "execution_count": 61,
   "metadata": {},
   "outputs": [],
   "source": [
    "# t(0.025,11) = 2.201\n",
    "# arr_mean - t(0.025, 11)*np.sqrt(arr_var/n) < mu < arr_mean + t(0.025, 11)*np.sqrt(arr_var/n)"
   ]
  },
  {
   "cell_type": "code",
   "execution_count": 67,
   "metadata": {},
   "outputs": [
    {
     "name": "stdout",
     "output_type": "stream",
     "text": [
      "161.7767070097117 ~ 170.2232929902883\n"
     ]
    }
   ],
   "source": [
    "print(arr_mean-2.201*arr_se, '~', arr_mean+2.201*arr_se)"
   ]
  },
  {
   "cell_type": "code",
   "execution_count": null,
   "metadata": {},
   "outputs": [],
   "source": [
    "n = 300\n",
    "x_mean = 294.65\n",
    "x_std = 45\n",
    "\n"
   ]
  }
 ],
 "metadata": {
  "kernelspec": {
   "display_name": "Python 3",
   "language": "python",
   "name": "python3"
  },
  "language_info": {
   "codemirror_mode": {
    "name": "ipython",
    "version": 3
   },
   "file_extension": ".py",
   "mimetype": "text/x-python",
   "name": "python",
   "nbconvert_exporter": "python",
   "pygments_lexer": "ipython3",
   "version": "3.8.3"
  }
 },
 "nbformat": 4,
 "nbformat_minor": 4
}
