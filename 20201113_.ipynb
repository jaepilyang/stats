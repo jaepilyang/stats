{
 "cells": [
  {
   "cell_type": "code",
   "execution_count": 1,
   "metadata": {},
   "outputs": [],
   "source": [
    "# 추정 퀴즈1\n",
    "# 아프리카에 서식하는 악어의 몸무게를 추정\n",
    "# 50마리의 악어의 몸무게를 추정해보니 995kg였다과거 기록을 \n",
    "# 통해 확인한 결과 아프리카 악어의 몸무게 표준편차는 10kg이었다.\n",
    "# 아프리카 악어의 평균 몸무게의 90%의 신뢰구간을 구하시오"
   ]
  },
  {
   "cell_type": "code",
   "execution_count": 2,
   "metadata": {},
   "outputs": [],
   "source": [
    "import pandas as pd\n",
    "import numpy as np"
   ]
  },
  {
   "cell_type": "code",
   "execution_count": 4,
   "metadata": {},
   "outputs": [
    {
     "name": "stdout",
     "output_type": "stream",
     "text": [
      "992.6806897577081 ~ 997.3193102422919\n"
     ]
    }
   ],
   "source": [
    "# n 50\n",
    "# 표준편차 10\n",
    "# 신뢰구간 1.64\n",
    "# 추정치 995\n",
    "print(995-1.64*(10/np.sqrt(50)), '~', 995+1.64*(10/np.sqrt(50)))"
   ]
  },
  {
   "cell_type": "code",
   "execution_count": 8,
   "metadata": {},
   "outputs": [],
   "source": [
    "def calcu():\n",
    "    x_mean = int(input('평균: '))\n",
    "    trust = int(input('신뢰구간: '))\n",
    "    if trust==90:\n",
    "        trust=1.64\n",
    "    elif trust ==95:\n",
    "        trust=1.96\n",
    "    else:\n",
    "        trust=2.58\n",
    "    x_std = int(input('표준편차: '))\n",
    "    n = int(input('표본수: '))\n",
    "    \n",
    "    (x_mean-u_mean)/u_std*np.sqrt(n)\n",
    "    \n",
    "    print(x_mean-trust*(x_std/np.sqrt(n)), '~', x_mean+trust*(x_std/np.sqrt(n)))"
   ]
  },
  {
   "cell_type": "code",
   "execution_count": 5,
   "metadata": {},
   "outputs": [],
   "source": [
    "# 추정 퀴즈2\n",
    "# 화장품 회사에서는 용기에 화장품을 담고 있으며, 화장품의 무게는\n",
    "# 정규분포를 따른다. 공장에서 16개의 sample을 추출해서 조사한 결과\n",
    "# 평균은 60g, 표준편차는 12g이었다. 평균적으로 화장품의 용기에\n",
    "# 화장품이 얼마나 들어가는지 95% 신뢰구간을 구하시오"
   ]
  },
  {
   "cell_type": "code",
   "execution_count": 11,
   "metadata": {},
   "outputs": [
    {
     "name": "stdout",
     "output_type": "stream",
     "text": [
      "53.607 ~ 66.393\n"
     ]
    }
   ],
   "source": [
    "x_mean=60\n",
    "x_std=12\n",
    "\n",
    "# x_mean-t(15, 0.025)*(x_std/np.sqrt(16)) < 모평균 < x_mean-t(15, 0.025)*(x_std/np.sqrt(16))\n",
    "\n",
    "print(60-2.131*(x_std/np.sqrt(16)), '~', 60+2.131*(x_std/np.sqrt(16)))"
   ]
  },
  {
   "cell_type": "code",
   "execution_count": 10,
   "metadata": {},
   "outputs": [
    {
     "name": "stdout",
     "output_type": "stream",
     "text": [
      "평균: 60\n",
      "신뢰구간: 95\n",
      "표준편차: 12\n",
      "표본수: 16\n",
      "54.12 ~ 65.88\n"
     ]
    }
   ],
   "source": [
    "calcu()"
   ]
  },
  {
   "cell_type": "code",
   "execution_count": null,
   "metadata": {},
   "outputs": [],
   "source": []
  },
  {
   "cell_type": "code",
   "execution_count": 12,
   "metadata": {},
   "outputs": [],
   "source": [
    "# 가설검정 퀴즈 1\n",
    "# 아프리카에 서식하는 악어의 평균 몸무게는 1t이었다. 한 동물학자는 이들의 몸무게가 줄었을 것이라고 주장\n",
    "# 이를 실험하기 위해 50마리의 악어의 몸무게를 확인하였다. 50마리의 악어의 평균 몸무게는 995kg이었다.\n",
    "# 과거 기록을 통해 악어의 몸무게의 표준 편차는 10kg이라는 사실을 알아냈다. 유의수준 5%에서 이 동물학자의\n",
    "# 주장이 맞는지 귀무가설과 대립가설을 설정하고 검정하시오 검정하시오\n",
    "\n",
    "# 악어의 평균 몸무게는 1t이다.\n",
    "# 악어의 평균 몸무게는 1t아니다."
   ]
  },
  {
   "cell_type": "code",
   "execution_count": 13,
   "metadata": {},
   "outputs": [
    {
     "name": "stdout",
     "output_type": "stream",
     "text": [
      "평균: 995\n",
      "신뢰구간: 95\n",
      "표준편차: 10\n",
      "표본수: 50\n",
      "992.2281414177487 ~ 997.7718585822513\n"
     ]
    }
   ],
   "source": [
    "calcu()"
   ]
  },
  {
   "cell_type": "code",
   "execution_count": 15,
   "metadata": {},
   "outputs": [
    {
     "data": {
      "text/plain": [
       "-3.5355339059327378"
      ]
     },
     "execution_count": 15,
     "metadata": {},
     "output_type": "execute_result"
    }
   ],
   "source": [
    "# 유의수준 5% = 신뢰도 95% 이 범주안에 들면 대립가설 기각(귀무가설이 맞을 수 있다.)\n",
    "# 신뢰도 95%는 1.96 표준화를 한 값을 표준정규분포표에 찍었을 때 -1.96~1.96 범위안에 있으면\n",
    "# 귀무가설 채택\n",
    "(995-1000)/10*np.sqrt(50)"
   ]
  },
  {
   "cell_type": "code",
   "execution_count": null,
   "metadata": {},
   "outputs": [],
   "source": []
  },
  {
   "cell_type": "code",
   "execution_count": 19,
   "metadata": {},
   "outputs": [],
   "source": [
    "# 가설검정 퀴즈 2\n",
    "# 한 화장품 공장에서는 화장품을 용기에 담고 있으며 기계는 화장품을 65g씩\n",
    "# 담도록 설계되어있다. 기계의 화장품에 담는 무게는 정규분포를 따른다고 한다.\n",
    "# 기계의 오작동 여부를 알기 위해 16개의 샘플을 무작위로 뽑아서 검사한 결과\n",
    "# 평균 무게는 60g 표준편차는 20g이었다. 유의 수준 5%로 기계의 오작동 여부를 검정하시오.\n",
    "\n",
    "# 기계는 화장품을 65g씩 담는다.\n",
    "# 기계는 화장품을 일정하지 않게 담는다."
   ]
  },
  {
   "cell_type": "code",
   "execution_count": 17,
   "metadata": {},
   "outputs": [
    {
     "name": "stdout",
     "output_type": "stream",
     "text": [
      "평균: 60\n",
      "신뢰구간: 95\n",
      "표준편차: 20\n",
      "표본수: 16\n",
      "50.2 ~ 69.8\n"
     ]
    }
   ],
   "source": [
    "calcu()"
   ]
  },
  {
   "cell_type": "code",
   "execution_count": 18,
   "metadata": {},
   "outputs": [
    {
     "data": {
      "text/plain": [
       "-1.0"
      ]
     },
     "execution_count": 18,
     "metadata": {},
     "output_type": "execute_result"
    }
   ],
   "source": [
    "(60-65)/20*np.sqrt(16)"
   ]
  },
  {
   "cell_type": "code",
   "execution_count": null,
   "metadata": {},
   "outputs": [],
   "source": [
    "# x_mean - t(15, 0.025)*20/np.sqrt(16) < u < x_mean + t(15, 0.025)*20/np.sqrt(16)"
   ]
  }
 ],
 "metadata": {
  "kernelspec": {
   "display_name": "Python 3",
   "language": "python",
   "name": "python3"
  },
  "language_info": {
   "codemirror_mode": {
    "name": "ipython",
    "version": 3
   },
   "file_extension": ".py",
   "mimetype": "text/x-python",
   "name": "python",
   "nbconvert_exporter": "python",
   "pygments_lexer": "ipython3",
   "version": "3.8.3"
  }
 },
 "nbformat": 4,
 "nbformat_minor": 4
}
